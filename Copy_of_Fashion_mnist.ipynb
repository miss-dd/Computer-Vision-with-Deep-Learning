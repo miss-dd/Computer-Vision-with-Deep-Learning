{
  "nbformat": 4,
  "nbformat_minor": 0,
  "metadata": {
    "colab": {
      "provenance": [],
      "gpuType": "T4"
    },
    "kernelspec": {
      "name": "python3",
      "display_name": "Python 3"
    },
    "language_info": {
      "name": "python"
    },
    "accelerator": "GPU"
  },
  "cells": [
    {
      "cell_type": "code",
      "execution_count": null,
      "metadata": {
        "id": "4R5-p9Jrm7j6"
      },
      "outputs": [],
      "source": [
        "# !pip install openml"
      ]
    },
    {
      "cell_type": "code",
      "source": [
        "classes = ['tshirt','trouser','pullover','dress','coat','sandal','shirt','sneaker','bag','ankle boot']"
      ],
      "metadata": {
        "id": "UrtdJ2RIyjRu"
      },
      "execution_count": null,
      "outputs": []
    },
    {
      "cell_type": "code",
      "source": [
        "from sklearn.datasets import fetch_openml\n",
        "import matplotlib.pyplot as plt\n",
        "import numpy as np\n",
        "import pandas as pd"
      ],
      "metadata": {
        "id": "OMXDcBKknD0Q"
      },
      "execution_count": null,
      "outputs": []
    },
    {
      "cell_type": "code",
      "source": [
        "fashion_mnist = fetch_openml(data_id=40996, cache=True)"
      ],
      "metadata": {
        "colab": {
          "base_uri": "https://localhost:8080/"
        },
        "id": "7Fqb7O6HniIe",
        "outputId": "ee28ecce-b102-448a-f162-fbc2b6c8806c"
      },
      "execution_count": null,
      "outputs": [
        {
          "output_type": "stream",
          "name": "stderr",
          "text": [
            "/usr/local/lib/python3.10/dist-packages/sklearn/datasets/_openml.py:968: FutureWarning: The default value of `parser` will change from `'liac-arff'` to `'auto'` in 1.4. You can set `parser='auto'` to silence this warning. Therefore, an `ImportError` will be raised from 1.4 if the dataset is dense and pandas is not installed. Note that the pandas parser may return different data types. See the Notes Section in fetch_openml's API doc for details.\n",
            "  warn(\n"
          ]
        }
      ]
    },
    {
      "cell_type": "code",
      "source": [
        "print(fashion_mnist.keys())"
      ],
      "metadata": {
        "colab": {
          "base_uri": "https://localhost:8080/"
        },
        "id": "2QOR2bFPnY9s",
        "outputId": "ada02518-d0cf-44b2-fadd-b294a818b3f6"
      },
      "execution_count": null,
      "outputs": [
        {
          "output_type": "stream",
          "name": "stdout",
          "text": [
            "dict_keys(['data', 'target', 'frame', 'categories', 'feature_names', 'target_names', 'DESCR', 'details', 'url'])\n"
          ]
        }
      ]
    },
    {
      "cell_type": "markdown",
      "source": [
        "**Fashion Mnist Data analysis**"
      ],
      "metadata": {
        "id": "pdQEWQ4LohVM"
      }
    },
    {
      "cell_type": "code",
      "source": [
        "x = fashion_mnist['data']"
      ],
      "metadata": {
        "id": "TxyhJfQTogOQ"
      },
      "execution_count": null,
      "outputs": []
    },
    {
      "cell_type": "code",
      "source": [
        "y = fashion_mnist['target']"
      ],
      "metadata": {
        "id": "KrHYqUslpCLJ"
      },
      "execution_count": null,
      "outputs": []
    },
    {
      "cell_type": "code",
      "source": [
        "print(fashion_mnist['DESCR'])"
      ],
      "metadata": {
        "colab": {
          "base_uri": "https://localhost:8080/"
        },
        "id": "QMuodeUmo6R0",
        "outputId": "a28fc927-f6b8-4668-9af4-dfc15f4f82ae"
      },
      "execution_count": null,
      "outputs": [
        {
          "output_type": "stream",
          "name": "stdout",
          "text": [
            "**Author**: Han Xiao, Kashif Rasul, Roland Vollgraf  \n",
            "**Source**: [Zalando Research](https://github.com/zalandoresearch/fashion-mnist)  \n",
            "**Please cite**: Han Xiao and Kashif Rasul and Roland Vollgraf, Fashion-MNIST: a Novel Image Dataset for Benchmarking Machine Learning Algorithms, arXiv, cs.LG/1708.07747  \n",
            "\n",
            "Fashion-MNIST is a dataset of Zalando's article images, consisting of a training set of 60,000 examples and a test set of 10,000 examples. Each example is a 28x28 grayscale image, associated with a label from 10 classes. Fashion-MNIST is intended to serve as a direct drop-in replacement for the original MNIST dataset for benchmarking machine learning algorithms. It shares the same image size and structure of training and testing splits. \n",
            "\n",
            "Raw data available at: https://github.com/zalandoresearch/fashion-mnist\n",
            "\n",
            "### Target classes\n",
            "Each training and test example is assigned to one of the following labels:\n",
            "Label  Description  \n",
            "0  T-shirt/top  \n",
            "1  Trouser  \n",
            "2  Pullover  \n",
            "3  Dress  \n",
            "4  Coat  \n",
            "5  Sandal  \n",
            "6  Shirt  \n",
            "7  Sneaker  \n",
            "8  Bag  \n",
            "9  Ankle boot\n",
            "\n",
            "Downloaded from openml.org.\n"
          ]
        }
      ]
    },
    {
      "cell_type": "code",
      "source": [
        "x.shape, y.shape"
      ],
      "metadata": {
        "colab": {
          "base_uri": "https://localhost:8080/"
        },
        "id": "v_-7aoj9pqHg",
        "outputId": "0fc00de6-2fe9-4541-ddc2-861c6f9ab578"
      },
      "execution_count": null,
      "outputs": [
        {
          "output_type": "execute_result",
          "data": {
            "text/plain": [
              "((70000, 784), (70000,))"
            ]
          },
          "metadata": {},
          "execution_count": 8
        }
      ]
    },
    {
      "cell_type": "markdown",
      "source": [
        "**Data Visualization**"
      ],
      "metadata": {
        "id": "RBoj6re9p_ew"
      }
    },
    {
      "cell_type": "code",
      "source": [
        "plt.rcParams['figure.figsize'] = (12,5)\n",
        "plt.rcParams['figure.dpi'] = 100\n",
        "\n",
        "class_indices = y.unique()\n",
        "class_indices = list(class_indices)\n",
        "class_indices.sort()\n",
        "class_indices\n",
        "\n",
        "for i in class_indices:\n",
        "  plt.subplot(2, 5, int(i)+ 1)\n",
        "\n",
        "  # fill each subplot with the image\n",
        "  img = x[y==i].iloc[0].to_numpy().reshape(28, 28)\n",
        "  plt.imshow(img)\n",
        "\n",
        "  plt.title(classes[int(i)])\n",
        "\n",
        "plt.tight_layout()"
      ],
      "metadata": {
        "colab": {
          "base_uri": "https://localhost:8080/",
          "height": 520
        },
        "id": "9-z-oBgQqEGy",
        "outputId": "33a4a668-25ed-4803-d701-28dcd30d1cde"
      },
      "execution_count": null,
      "outputs": [
        {
          "output_type": "display_data",
          "data": {
            "text/plain": [
              "<Figure size 1200x500 with 10 Axes>"
            ],
            "image/png": "[encoded data removed]"
          },
          "metadata": {}
        }
      ]
    },
    {
      "cell_type": "markdown",
      "source": [
        "**Train Test Split**"
      ],
      "metadata": {
        "id": "rCItV4PDxJs6"
      }
    },
    {
      "cell_type": "code",
      "source": [
        "y = y.astype('int')"
      ],
      "metadata": {
        "id": "cqivzzeGrdyr"
      },
      "execution_count": null,
      "outputs": []
    },
    {
      "cell_type": "code",
      "source": [
        "from sklearn.model_selection import train_test_split\n",
        "from sklearn.preprocessing import StandardScaler"
      ],
      "metadata": {
        "id": "BHwQVCycqqQf"
      },
      "execution_count": null,
      "outputs": []
    },
    {
      "cell_type": "code",
      "source": [
        "x_train, x_test, y_train, y_test = train_test_split(x/255, y, test_size=0.2, random_state=0)"
      ],
      "metadata": {
        "id": "bfovQ9EJzRlf"
      },
      "execution_count": null,
      "outputs": []
    },
    {
      "cell_type": "code",
      "source": [
        "x_train.shape, x_test.shape, y_train.shape, y_test.shape"
      ],
      "metadata": {
        "colab": {
          "base_uri": "https://localhost:8080/"
        },
        "id": "rCbR5l5Jp4k0",
        "outputId": "94f8f4a0-070c-4376-bbee-9cec4b00398d"
      },
      "execution_count": null,
      "outputs": [
        {
          "output_type": "execute_result",
          "data": {
            "text/plain": [
              "((56000, 784), (14000, 784), (56000,), (14000,))"
            ]
          },
          "metadata": {},
          "execution_count": 13
        }
      ]
    },
    {
      "cell_type": "markdown",
      "source": [
        "**Build NeuraL Model**"
      ],
      "metadata": {
        "id": "85vV9sG3z_oE"
      }
    },
    {
      "cell_type": "code",
      "source": [
        "import tensorflow as tf\n",
        "from tensorflow import keras\n",
        "from tensorflow.keras import Sequential\n",
        "from tensorflow.keras.layers import Dense, Flatten"
      ],
      "metadata": {
        "id": "fmEk3WxS0Ij6"
      },
      "execution_count": null,
      "outputs": []
    },
    {
      "cell_type": "code",
      "source": [
        "x_train.shape[1]"
      ],
      "metadata": {
        "colab": {
          "base_uri": "https://localhost:8080/"
        },
        "id": "rjEapPmm25QM",
        "outputId": "0ea7a985-8829-4752-ebae-e7a1a329ebd9"
      },
      "execution_count": null,
      "outputs": [
        {
          "output_type": "execute_result",
          "data": {
            "text/plain": [
              "784"
            ]
          },
          "metadata": {},
          "execution_count": 15
        }
      ]
    },
    {
      "cell_type": "code",
      "source": [
        "def get_model():\n",
        "  model = Sequential()\n",
        "  model.add(Flatten(input_shape=(x_train.shape[1],)))\n",
        "  model.add(Dense(128, activation='relu'))\n",
        "  model.add(Dense(128, activation='relu'))\n",
        "  model.add(Dense(10, activation='softmax'))\n",
        "\n",
        "  return model"
      ],
      "metadata": {
        "id": "clqzU5lT0hVI"
      },
      "execution_count": null,
      "outputs": []
    },
    {
      "cell_type": "code",
      "source": [
        "model = get_model()"
      ],
      "metadata": {
        "id": "lSTk8IAd1jC1"
      },
      "execution_count": null,
      "outputs": []
    },
    {
      "cell_type": "markdown",
      "source": [
        "**Model Summary and Training**"
      ],
      "metadata": {
        "id": "AIquQUDa3RZw"
      }
    },
    {
      "cell_type": "code",
      "source": [
        "model.summary()"
      ],
      "metadata": {
        "colab": {
          "base_uri": "https://localhost:8080/"
        },
        "id": "eTztbKbS3PX5",
        "outputId": "d15e4eb3-9608-4665-d5af-263be92f965f"
      },
      "execution_count": null,
      "outputs": [
        {
          "output_type": "stream",
          "name": "stdout",
          "text": [
            "Model: \"sequential\"\n",
            "_________________________________________________________________\n",
            " Layer (type)                Output Shape              Param #   \n",
            "=================================================================\n",
            " flatten (Flatten)           (None, 784)               0         \n",
            "                                                                 \n",
            " dense (Dense)               (None, 128)               100480    \n",
            "                                                                 \n",
            " dense_1 (Dense)             (None, 128)               16512     \n",
            "                                                                 \n",
            " dense_2 (Dense)             (None, 10)                1290      \n",
            "                                                                 \n",
            "=================================================================\n",
            "Total params: 118282 (462.04 KB)\n",
            "Trainable params: 118282 (462.04 KB)\n",
            "Non-trainable params: 0 (0.00 Byte)\n",
            "_________________________________________________________________\n"
          ]
        }
      ]
    },
    {
      "cell_type": "code",
      "source": [
        "# see the layers present in the model\n",
        "model.layers"
      ],
      "metadata": {
        "id": "8Q6uncfv3PUp",
        "colab": {
          "base_uri": "https://localhost:8080/"
        },
        "outputId": "0a2b6606-ca78-4b5d-d834-1babbeb74ff4"
      },
      "execution_count": null,
      "outputs": [
        {
          "output_type": "execute_result",
          "data": {
            "text/plain": [
              "[<keras.src.layers.reshaping.flatten.Flatten at 0x7e97308a87f0>,\n",
              " <keras.src.layers.core.dense.Dense at 0x7e97308a9870>,\n",
              " <keras.src.layers.core.dense.Dense at 0x7e97308a9ed0>,\n",
              " <keras.src.layers.core.dense.Dense at 0x7e97308a9c30>]"
            ]
          },
          "metadata": {},
          "execution_count": 19
        }
      ]
    },
    {
      "cell_type": "code",
      "source": [
        "# see the random weights automatically generated for flatten layer (to verify that flatten layer has no parameters or weight)\n",
        "model.layers[0].get_weights()"
      ],
      "metadata": {
        "colab": {
          "base_uri": "https://localhost:8080/"
        },
        "id": "sAUp1vxAKkSu",
        "outputId": "5a0f478a-b79a-453f-fe8c-3a8e03af07af"
      },
      "execution_count": null,
      "outputs": [
        {
          "output_type": "execute_result",
          "data": {
            "text/plain": [
              "[]"
            ]
          },
          "metadata": {},
          "execution_count": 20
        }
      ]
    },
    {
      "cell_type": "code",
      "source": [
        "# see the random weights automatically generated for 2nd layer (dense)\n",
        "model.layers[1].get_weights()"
      ],
      "metadata": {
        "colab": {
          "base_uri": "https://localhost:8080/"
        },
        "id": "p0oqE2Q6K8JF",
        "outputId": "6f925b8f-5e67-4338-ccb7-c99b3d5c98b6"
      },
      "execution_count": null,
      "outputs": [
        {
          "output_type": "execute_result",
          "data": {
            "text/plain": [
              "[array([[ 0.0357729 , -0.05013576, -0.05289027, ..., -0.05254359,\n",
              "          0.06646154,  0.06700789],\n",
              "        [ 0.06071981,  0.06981345, -0.01920401, ..., -0.03603799,\n",
              "          0.0377418 , -0.03959617],\n",
              "        [-0.05673967, -0.08007944,  0.0514467 , ..., -0.03720826,\n",
              "         -0.00486846, -0.01463459],\n",
              "        ...,\n",
              "        [-0.05857998,  0.02724983,  0.04516769, ...,  0.07972863,\n",
              "          0.00698408,  0.03018405],\n",
              "        [-0.02765414,  0.00375225,  0.03267498, ..., -0.05760715,\n",
              "          0.03323579,  0.0405541 ],\n",
              "        [-0.02255439, -0.01114379,  0.01840672, ...,  0.07971931,\n",
              "         -0.06786376, -0.04833771]], dtype=float32),\n",
              " array([0., 0., 0., 0., 0., 0., 0., 0., 0., 0., 0., 0., 0., 0., 0., 0., 0.,\n",
              "        0., 0., 0., 0., 0., 0., 0., 0., 0., 0., 0., 0., 0., 0., 0., 0., 0.,\n",
              "        0., 0., 0., 0., 0., 0., 0., 0., 0., 0., 0., 0., 0., 0., 0., 0., 0.,\n",
              "        0., 0., 0., 0., 0., 0., 0., 0., 0., 0., 0., 0., 0., 0., 0., 0., 0.,\n",
              "        0., 0., 0., 0., 0., 0., 0., 0., 0., 0., 0., 0., 0., 0., 0., 0., 0.,\n",
              "        0., 0., 0., 0., 0., 0., 0., 0., 0., 0., 0., 0., 0., 0., 0., 0., 0.,\n",
              "        0., 0., 0., 0., 0., 0., 0., 0., 0., 0., 0., 0., 0., 0., 0., 0., 0.,\n",
              "        0., 0., 0., 0., 0., 0., 0., 0., 0.], dtype=float32)]"
            ]
          },
          "metadata": {},
          "execution_count": 21
        }
      ]
    },
    {
      "cell_type": "markdown",
      "source": [
        "**Model Compilation and Training**"
      ],
      "metadata": {
        "id": "XJ7P-YL8M3Q_"
      }
    },
    {
      "cell_type": "code",
      "source": [
        "history = model.compile(optimizer='adam', loss='sparse_categorical_crossentropy', metrics=['accuracy'])"
      ],
      "metadata": {
        "id": "sbcjFXKN3InX"
      },
      "execution_count": null,
      "outputs": []
    },
    {
      "cell_type": "code",
      "source": [
        "model.fit(x_train, y_train, epochs=10, validation_data=(x_test, y_test))"
      ],
      "metadata": {
        "id": "cJG9hP-X3Ikw",
        "colab": {
          "base_uri": "https://localhost:8080/"
        },
        "outputId": "4fddf120-d7cd-4bc2-f0aa-c63c9bdf92d2"
      },
      "execution_count": null,
      "outputs": [
        {
          "output_type": "stream",
          "name": "stdout",
          "text": [
            "Epoch 1/10\n",
            "1750/1750 [==============================] - 12s 4ms/step - loss: 0.4971 - accuracy: 0.8213 - val_loss: 0.3934 - val_accuracy: 0.8561\n",
            "Epoch 2/10\n",
            "1750/1750 [==============================] - 6s 3ms/step - loss: 0.3718 - accuracy: 0.8649 - val_loss: 0.3678 - val_accuracy: 0.8714\n",
            "Epoch 3/10\n",
            "1750/1750 [==============================] - 6s 4ms/step - loss: 0.3371 - accuracy: 0.8762 - val_loss: 0.3349 - val_accuracy: 0.8827\n",
            "Epoch 4/10\n",
            "1750/1750 [==============================] - 6s 3ms/step - loss: 0.3147 - accuracy: 0.8827 - val_loss: 0.3257 - val_accuracy: 0.8811\n",
            "Epoch 5/10\n",
            "1750/1750 [==============================] - 6s 3ms/step - loss: 0.2974 - accuracy: 0.8903 - val_loss: 0.3105 - val_accuracy: 0.8876\n",
            "Epoch 6/10\n",
            "1750/1750 [==============================] - 7s 4ms/step - loss: 0.2810 - accuracy: 0.8936 - val_loss: 0.3389 - val_accuracy: 0.8775\n",
            "Epoch 7/10\n",
            "1750/1750 [==============================] - 6s 3ms/step - loss: 0.2674 - accuracy: 0.8992 - val_loss: 0.3435 - val_accuracy: 0.8811\n",
            "Epoch 8/10\n",
            "1750/1750 [==============================] - 6s 4ms/step - loss: 0.2572 - accuracy: 0.9030 - val_loss: 0.3142 - val_accuracy: 0.8883\n",
            "Epoch 9/10\n",
            "1750/1750 [==============================] - 5s 3ms/step - loss: 0.2473 - accuracy: 0.9076 - val_loss: 0.3116 - val_accuracy: 0.8924\n",
            "Epoch 10/10\n",
            "1750/1750 [==============================] - 7s 4ms/step - loss: 0.2382 - accuracy: 0.9103 - val_loss: 0.3302 - val_accuracy: 0.8822\n"
          ]
        },
        {
          "output_type": "execute_result",
          "data": {
            "text/plain": [
              "<keras.src.callbacks.History at 0x7e972e0b3ca0>"
            ]
          },
          "metadata": {},
          "execution_count": 23
        }
      ]
    },
    {
      "cell_type": "markdown",
      "source": [
        "**Early Stopping**"
      ],
      "metadata": {
        "id": "ts9S4hClNu0v"
      }
    },
    {
      "cell_type": "code",
      "source": [
        "class myCallback(tf.keras.callbacks.Callback):\n",
        "  def on_epoch_end(self, epoch, logs={}):\n",
        "    if(logs.get('accuracy')-logs.get('val_accuracy')) > 0.01:\n",
        "      print('Validation accuracy fell below 1% of training accuracy. Cancelling training!')\n",
        "\n",
        "      self.model.stop_training = True\n",
        "\n",
        "callbacks = myCallback()\n",
        "model = get_model()\n",
        "history = model.compile(optimizer='adam', loss='sparse_categorical_crossentropy', metrics=['accuracy'])\n",
        "model.fit(x_train, y_train, epochs=10, validation_data=(x_test, y_test), callbacks=[callbacks])"
      ],
      "metadata": {
        "colab": {
          "base_uri": "https://localhost:8080/"
        },
        "id": "KmCNLh9SN10Z",
        "outputId": "52811deb-10a4-4d2b-adfd-334b4fa71387"
      },
      "execution_count": null,
      "outputs": [
        {
          "output_type": "stream",
          "name": "stdout",
          "text": [
            "Epoch 1/10\n",
            "1750/1750 [==============================] - 7s 3ms/step - loss: 0.4987 - accuracy: 0.8208 - val_loss: 0.3885 - val_accuracy: 0.8640\n",
            "Epoch 2/10\n",
            "1750/1750 [==============================] - 7s 4ms/step - loss: 0.3700 - accuracy: 0.8634 - val_loss: 0.3801 - val_accuracy: 0.8562\n",
            "Epoch 3/10\n",
            "1750/1750 [==============================] - 6s 3ms/step - loss: 0.3379 - accuracy: 0.8754 - val_loss: 0.3406 - val_accuracy: 0.8751\n",
            "Epoch 4/10\n",
            "1750/1750 [==============================] - 7s 4ms/step - loss: 0.3127 - accuracy: 0.8837 - val_loss: 0.3312 - val_accuracy: 0.8803\n",
            "Epoch 5/10\n",
            "1750/1750 [==============================] - 5s 3ms/step - loss: 0.2934 - accuracy: 0.8904 - val_loss: 0.3300 - val_accuracy: 0.8809\n",
            "Epoch 6/10\n",
            "1750/1750 [==============================] - 6s 4ms/step - loss: 0.2803 - accuracy: 0.8948 - val_loss: 0.3108 - val_accuracy: 0.8882\n",
            "Epoch 7/10\n",
            "1738/1750 [============================>.] - ETA: 0s - loss: 0.2659 - accuracy: 0.8997Validation accuracy fell below 1% of training accuracy. Cancelling training!\n",
            "1750/1750 [==============================] - 6s 3ms/step - loss: 0.2659 - accuracy: 0.8996 - val_loss: 0.3156 - val_accuracy: 0.8866\n"
          ]
        },
        {
          "output_type": "execute_result",
          "data": {
            "text/plain": [
              "<keras.src.callbacks.History at 0x7e9721474790>"
            ]
          },
          "metadata": {},
          "execution_count": 24
        }
      ]
    },
    {
      "cell_type": "markdown",
      "source": [
        "**Model save and load**"
      ],
      "metadata": {
        "id": "VQqmZGhzQG8_"
      }
    },
    {
      "cell_type": "code",
      "source": [
        "# save classes (target names)\n",
        "model_classes = {'model': model, 'classes': classes}"
      ],
      "metadata": {
        "id": "5P6cmbFLQQi4"
      },
      "execution_count": null,
      "outputs": []
    },
    {
      "cell_type": "code",
      "source": [
        "import pickle as pkl"
      ],
      "metadata": {
        "id": "QEbOUqmBQMzg"
      },
      "execution_count": null,
      "outputs": []
    },
    {
      "cell_type": "code",
      "source": [
        "pkl.dump(model_classes, open('model_fashion_mnist.pkl', 'wb'))"
      ],
      "metadata": {
        "id": "nhVLq5mcPgK-"
      },
      "execution_count": null,
      "outputs": []
    },
    {
      "cell_type": "code",
      "source": [
        "load_model = pkl.load(open('model_fashion_mnist.pkl', 'rb'))\n",
        "load_model"
      ],
      "metadata": {
        "colab": {
          "base_uri": "https://localhost:8080/"
        },
        "id": "1NT94jiNQ8Mt",
        "outputId": "964b501e-8d2f-49ac-d7ca-bb254d311903"
      },
      "execution_count": null,
      "outputs": [
        {
          "output_type": "execute_result",
          "data": {
            "text/plain": [
              "{'model': <keras.src.engine.sequential.Sequential at 0x7e9721403f40>,\n",
              " 'classes': ['tshirt',\n",
              "  'trouser',\n",
              "  'pullover',\n",
              "  'dress',\n",
              "  'coat',\n",
              "  'sandal',\n",
              "  'shirt',\n",
              "  'sneaker',\n",
              "  'bag',\n",
              "  'ankle boot']}"
            ]
          },
          "metadata": {},
          "execution_count": 28
        }
      ]
    },
    {
      "cell_type": "code",
      "source": [
        "# make prediction on the x_train set\n",
        "load_model['model'].predict(x_train)"
      ],
      "metadata": {
        "colab": {
          "base_uri": "https://localhost:8080/"
        },
        "id": "TTeF9SeMNz5Z",
        "outputId": "e5e64e90-4a0a-4e61-c2e2-9fc8dab0d1ba"
      },
      "execution_count": null,
      "outputs": [
        {
          "output_type": "stream",
          "name": "stdout",
          "text": [
            "1750/1750 [==============================] - 3s 2ms/step\n"
          ]
        },
        {
          "output_type": "execute_result",
          "data": {
            "text/plain": [
              "array([[7.7898121e-01, 8.6066552e-02, 1.3203811e-04, ..., 7.4405995e-11,\n",
              "        4.1081630e-06, 1.4677668e-08],\n",
              "       [1.1144898e-02, 1.0647033e-03, 2.9305428e-02, ..., 4.0698220e-07,\n",
              "        4.5527676e-03, 9.4858046e-07],\n",
              "       [2.9160002e-02, 2.0525062e-04, 6.0083336e-01, ..., 1.9642715e-05,\n",
              "        1.5045541e-03, 3.0999042e-06],\n",
              "       ...,\n",
              "       [3.1839828e-03, 7.8350949e-06, 5.4705065e-01, ..., 1.2955597e-06,\n",
              "        1.8224050e-04, 2.8792891e-07],\n",
              "       [7.1143248e-04, 2.0451482e-08, 8.9451276e-02, ..., 4.0885823e-12,\n",
              "        1.2123554e-08, 1.3564572e-10],\n",
              "       [5.4352757e-02, 1.8477334e-07, 8.5012756e-02, ..., 1.1927354e-08,\n",
              "        7.8963640e-06, 1.7256556e-09]], dtype=float32)"
            ]
          },
          "metadata": {},
          "execution_count": 29
        }
      ]
    },
    {
      "cell_type": "code",
      "source": [
        "# prediction for any value(one prediction at a time)\n",
        "pred = load_model['model'].predict(x_train.iloc[1].to_numpy().reshape(1, 784))"
      ],
      "metadata": {
        "colab": {
          "base_uri": "https://localhost:8080/"
        },
        "id": "iAh7DXmKNrmn",
        "outputId": "b75ce587-feff-4b45-f579-0aa3d202ba4a"
      },
      "execution_count": null,
      "outputs": [
        {
          "output_type": "stream",
          "name": "stdout",
          "text": [
            "1/1 [==============================] - 0s 57ms/step\n"
          ]
        }
      ]
    },
    {
      "cell_type": "code",
      "source": [
        "idx = np.argmax(pred[0])\n",
        "idx"
      ],
      "metadata": {
        "id": "1-al50K8R0Lq",
        "colab": {
          "base_uri": "https://localhost:8080/"
        },
        "outputId": "524227e8-2d83-458b-fb45-73f208e6ded8"
      },
      "execution_count": null,
      "outputs": [
        {
          "output_type": "execute_result",
          "data": {
            "text/plain": [
              "3"
            ]
          },
          "metadata": {},
          "execution_count": 31
        }
      ]
    },
    {
      "cell_type": "code",
      "source": [
        "load_model['classes'][idx]"
      ],
      "metadata": {
        "colab": {
          "base_uri": "https://localhost:8080/",
          "height": 35
        },
        "id": "yeNaTaCjSwxt",
        "outputId": "c4973175-7260-4337-c4e5-f469e40f93d6"
      },
      "execution_count": null,
      "outputs": [
        {
          "output_type": "execute_result",
          "data": {
            "text/plain": [
              "'dress'"
            ],
            "application/vnd.google.colaboratory.intrinsic+json": {
              "type": "string"
            }
          },
          "metadata": {},
          "execution_count": 32
        }
      ]
    }
  ]
}